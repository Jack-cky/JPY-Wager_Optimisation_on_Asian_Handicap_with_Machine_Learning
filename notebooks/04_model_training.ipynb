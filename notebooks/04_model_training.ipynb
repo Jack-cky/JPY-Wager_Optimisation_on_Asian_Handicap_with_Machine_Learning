{
 "cells": [
  {
   "cell_type": "code",
   "execution_count": null,
   "id": "2767a080-5dd9-4521-9c95-5a47cba041d6",
   "metadata": {},
   "outputs": [],
   "source": [
    "from datetime import datetime\n",
    "\n",
    "import h2o\n",
    "import mlflow\n",
    "import mlflow.h2o\n",
    "import pandas as pd\n",
    "import statsmodels.api as sm\n",
    "import statsmodels.formula.api as smf\n",
    "from h2o.automl import H2OAutoML\n",
    "from mlflow.tracking import MlflowClient"
   ]
  },
  {
   "cell_type": "code",
   "execution_count": null,
   "id": "4c321595",
   "metadata": {},
   "outputs": [],
   "source": [
    "client = MlflowClient()"
   ]
  },
  {
   "cell_type": "code",
   "execution_count": null,
   "id": "0e6b3d57",
   "metadata": {},
   "outputs": [],
   "source": [
    "h2o.init()"
   ]
  },
  {
   "cell_type": "markdown",
   "id": "97add054-4f46-4d74-9a8f-d498b9c46abe",
   "metadata": {},
   "source": [
    "#### Goals Probability"
   ]
  },
  {
   "cell_type": "code",
   "execution_count": null,
   "id": "f3dfa47a-a371-4108-8a1a-c5bb15746228",
   "metadata": {},
   "outputs": [],
   "source": [
    "experiment_name = \"Probability Matrix\"\n",
    "\n",
    "mlflow.create_experiment(experiment_name)\n",
    "experiment = mlflow.set_experiment(experiment_name)"
   ]
  },
  {
   "cell_type": "code",
   "execution_count": null,
   "id": "34be710f-a5e2-4d32-91d3-ee1bb28c5550",
   "metadata": {},
   "outputs": [],
   "source": [
    "j1 = pd.read_parquet(\"../data/cleansed/cleansed_data.parquet\")\n",
    "\n",
    "col = [\"home\", \"away\", \"hg\", \"ag\"]\n",
    "opponent = {\"away\": \"home\", \"home\": \"away\"}\n",
    "\n",
    "j1 = j1.query(\"season < 2024\")[col].copy()"
   ]
  },
  {
   "cell_type": "code",
   "execution_count": null,
   "id": "23f41092-33f2-4f34-9fa2-7c0b7253b793",
   "metadata": {},
   "outputs": [],
   "source": [
    "dfs = []\n",
    "for stadium, team in enumerate([\"away\", \"home\"]):\n",
    "    xg = j1[[team, opponent[team], f\"{team[0]}g\"]] \\\n",
    "        .rename(\n",
    "            columns={\n",
    "                team: \"team\", opponent[team]: \"opponent\",\n",
    "                f\"{team[0]}g\": \"goals\",\n",
    "            }\n",
    "        ).assign(stadium=stadium)\n",
    "    \n",
    "    dfs.append(xg)\n",
    "\n",
    "xgs = pd.concat(dfs, ignore_index=True)"
   ]
  },
  {
   "cell_type": "code",
   "execution_count": null,
   "id": "8ad4b5cf-1796-4c0e-b7cd-9697f13085d4",
   "metadata": {},
   "outputs": [],
   "source": [
    "dt = datetime.now().strftime(\"%Y%m%d%H%M\")\n",
    "\n",
    "with mlflow.start_run(run_name=f\"gp_{dt}\"):\n",
    "    mlflow.statsmodels.autolog()\n",
    "    \n",
    "    glm = smf.glm(\n",
    "        formula=\"goals ~ stadium + team + opponent\",\n",
    "        data=xgs,\n",
    "        family=sm.families.Poisson()\n",
    "    ).fit()"
   ]
  },
  {
   "cell_type": "markdown",
   "id": "9d869faa-e37a-4f5f-b483-3599663a3da6",
   "metadata": {},
   "source": [
    "#### Handicap Results"
   ]
  },
  {
   "cell_type": "code",
   "execution_count": null,
   "id": "66a790ed-dd14-4901-81bd-12ce5774a005",
   "metadata": {
    "scrolled": true
   },
   "outputs": [],
   "source": [
    "experiment_name = \"Handicap Prediction\"\n",
    "\n",
    "mlflow.create_experiment(experiment_name)\n",
    "experiment = mlflow.set_experiment(experiment_name)"
   ]
  },
  {
   "cell_type": "code",
   "execution_count": null,
   "id": "912ce8fa-5b63-44ea-91e4-37e1a900b262",
   "metadata": {},
   "outputs": [],
   "source": [
    "j1 = pd.read_parquet(\"../data/featured/j1_league.parquet\")\n",
    "\n",
    "train = j1.query(\"season <= 2022\").drop(columns=\"season\")\n",
    "dev = j1.query(\"season == 2023\").drop(columns=\"season\")\n",
    "\n",
    "col_y = \"res\"\n",
    "col_x = [col for col in train.columns if col != col_y]"
   ]
  },
  {
   "cell_type": "code",
   "execution_count": null,
   "id": "e915d0e0-2c6c-480d-afdf-50344be07ac0",
   "metadata": {},
   "outputs": [],
   "source": [
    "train_h2o = h2o.H2OFrame(train)\n",
    "dev_h2o = h2o.H2OFrame(dev)\n",
    "\n",
    "train_h2o[col_y] = train_h2o[col_y].asfactor()"
   ]
  },
  {
   "cell_type": "code",
   "execution_count": null,
   "id": "733ccb5f-6cef-4b3e-ad6d-ea9e76b4a269",
   "metadata": {},
   "outputs": [],
   "source": [
    "dt = datetime.now().strftime(\"%Y%m%d%H%M\")\n",
    "\n",
    "with mlflow.start_run(run_name=f\"hc_{dt}\"):\n",
    "    clf = H2OAutoML(\n",
    "        max_models=32,\n",
    "        seed=42,\n",
    "        balance_classes=True,\n",
    "        sort_metric=\"logloss\",\n",
    "        exclude_algos=[\"DeepLearning\"],\n",
    "    )\n",
    "    \n",
    "    clf.train(\n",
    "        x=col_x, y=col_y,\n",
    "        training_frame=train_h2o,\n",
    "        validation_frame=dev_h2o,\n",
    "    )\n",
    "    \n",
    "    metrics = {\n",
    "        \"logloss\": clf.leader.logloss(),\n",
    "        \"auc\": clf.leader.auc(),\n",
    "        \"rmse\": clf.leader.rmse(),\n",
    "        \"mse\": clf.leader.mse()\n",
    "    }\n",
    "    mlflow.log_metrics(metrics)\n",
    "    \n",
    "    mlflow.h2o.log_model(clf.leader, artifact_path=\"model\")"
   ]
  },
  {
   "cell_type": "markdown",
   "id": "53a7f13a-79a3-4667-8c10-bc516e9452c2",
   "metadata": {},
   "source": [
    "#### Bet Decision"
   ]
  },
  {
   "cell_type": "code",
   "execution_count": null,
   "id": "b1307d86-4dd7-4f16-928d-6904d5722fc5",
   "metadata": {
    "scrolled": true
   },
   "outputs": [],
   "source": [
    "experiment_name = \"Bet Decision\"\n",
    "\n",
    "mlflow.create_experiment(experiment_name)\n",
    "experiment = mlflow.set_experiment(experiment_name)"
   ]
  },
  {
   "cell_type": "code",
   "execution_count": null,
   "id": "e691fea7-58dd-4116-ac82-62c280f0b968",
   "metadata": {},
   "outputs": [],
   "source": [
    "dev_pred = clf.predict(dev_h2o)\n",
    "\n",
    "train = dev_pred.as_data_frame()\n",
    "\n",
    "train[\"probability\"] = train[[\"A\", \"H\"]].max(axis=1)\n",
    "\n",
    "train[\"actual\"] = dev.reset_index(drop=True)[\"res\"]\n",
    "\n",
    "train[\"correct\"] = train[\"predict\"] == train[\"actual\"]\n",
    "train[\"correct\"] = train[\"correct\"].astype(int)"
   ]
  },
  {
   "cell_type": "code",
   "execution_count": null,
   "id": "490496fc-6fe1-4236-8684-c5a4aa9ad867",
   "metadata": {},
   "outputs": [],
   "source": [
    "train_h2o = h2o.H2OFrame(train)\n",
    "\n",
    "train_h2o[\"correct\"] = train_h2o[\"correct\"].asfactor()"
   ]
  },
  {
   "cell_type": "code",
   "execution_count": null,
   "id": "75c786ed-4576-4d9c-95dc-10b5ddd3017e",
   "metadata": {},
   "outputs": [],
   "source": [
    "dt = datetime.now().strftime(\"%Y%m%d%H%M\")\n",
    "\n",
    "with mlflow.start_run(run_name=f\"bd_{dt}\"):\n",
    "    sm = H2OAutoML(\n",
    "        max_models=32,\n",
    "        seed=42,\n",
    "        balance_classes=True,\n",
    "        sort_metric=\"logloss\",\n",
    "        exclude_algos=[\"DeepLearning\"],\n",
    "    )\n",
    "    \n",
    "    sm.train(\n",
    "        x=[\"predict\", \"probability\"], y=\"correct\",\n",
    "        training_frame=train_h2o,\n",
    "    )\n",
    "    \n",
    "    metrics = {\n",
    "        \"logloss\": sm.leader.logloss(),\n",
    "        \"auc\": sm.leader.auc(),\n",
    "        \"rmse\": sm.leader.rmse(),\n",
    "        \"mse\": sm.leader.mse()\n",
    "    }\n",
    "    mlflow.log_metrics(metrics)\n",
    "    \n",
    "    mlflow.h2o.log_model(sm.leader, artifact_path=\"model\")"
   ]
  }
 ],
 "metadata": {
  "kernelspec": {
   "display_name": "Python 3 (ipykernel)",
   "language": "python",
   "name": "python3"
  },
  "language_info": {
   "codemirror_mode": {
    "name": "ipython",
    "version": 3
   },
   "file_extension": ".py",
   "mimetype": "text/x-python",
   "name": "python",
   "nbconvert_exporter": "python",
   "pygments_lexer": "ipython3",
   "version": "3.10.14"
  }
 },
 "nbformat": 4,
 "nbformat_minor": 5
}
