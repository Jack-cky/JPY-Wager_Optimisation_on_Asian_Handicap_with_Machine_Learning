{
 "cells": [
  {
   "cell_type": "code",
   "execution_count": null,
   "id": "2195493e-3dec-4fcf-9b1e-8931ce43b07e",
   "metadata": {},
   "outputs": [],
   "source": [
    "import pandas as pd"
   ]
  },
  {
   "cell_type": "code",
   "execution_count": null,
   "id": "010cb07d-3463-4353-9f14-dec94f387b54",
   "metadata": {},
   "outputs": [],
   "source": [
    "url = \"https://www.football-data.co.uk/new/JPN.csv\"\n",
    "df = pd.read_csv(url)"
   ]
  },
  {
   "cell_type": "code",
   "execution_count": null,
   "id": "a348ee89-75d6-4cbd-a298-031c66593878",
   "metadata": {},
   "outputs": [],
   "source": [
    "df.to_parquet(\"../data/raw/raw_data.parquet\")"
   ]
  }
 ],
 "metadata": {
  "kernelspec": {
   "display_name": "Python 3 (ipykernel)",
   "language": "python",
   "name": "python3"
  },
  "language_info": {
   "codemirror_mode": {
    "name": "ipython",
    "version": 3
   },
   "file_extension": ".py",
   "mimetype": "text/x-python",
   "name": "python",
   "nbconvert_exporter": "python",
   "pygments_lexer": "ipython3",
   "version": "3.10.14"
  }
 },
 "nbformat": 4,
 "nbformat_minor": 5
}
