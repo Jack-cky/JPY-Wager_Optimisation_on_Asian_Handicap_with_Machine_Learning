{
 "cells": [
  {
   "cell_type": "code",
   "execution_count": null,
   "id": "0f45b4df-1518-42a7-8226-ebf4f1b09735",
   "metadata": {},
   "outputs": [],
   "source": [
    "import re\n",
    "\n",
    "import numpy as np\n",
    "import pandas as pd\n",
    "from multielo import Tracker"
   ]
  },
  {
   "cell_type": "code",
   "execution_count": null,
   "id": "10124f63-76c4-4779-9d2d-99bca679f746",
   "metadata": {},
   "outputs": [],
   "source": [
    "fixtures = pd.read_parquet(\"../data/cleansed/fixtures.parquet\")\n",
    "plays = pd.read_parquet(\"../data/cleansed/plays.parquet\")\n",
    "\n",
    "# features stores\n",
    "fts_shift, fts_nshift = {}, []"
   ]
  },
  {
   "cell_type": "markdown",
   "id": "ab9f1c63-f2a4-4e4b-9f3b-8c49c0e48ad2",
   "metadata": {},
   "source": [
    "#### Fixtures-wise"
   ]
  },
  {
   "cell_type": "code",
   "execution_count": null,
   "id": "ce30dab5-5a92-4bd9-a8e2-b217450b697e",
   "metadata": {},
   "outputs": [],
   "source": [
    "# normalise odds to ratio\n",
    "mkts = [\"rate_mkt_h\", \"rate_mkt_d\", \"rate_mkt_a\"]\n",
    "odds = [\"avgch\", \"avgcd\", \"avgca\"]\n",
    "\n",
    "fixtures[mkts] = 1 / fixtures[odds]\n",
    "fixtures[mkts] = fixtures[mkts].div(fixtures[mkts].sum(axis=1), axis=0)\n",
    "\n",
    "fts_nshift.extend([\"rate_mkt_h\", \"rate_mkt_a\"])"
   ]
  },
  {
   "cell_type": "code",
   "execution_count": null,
   "id": "19730010-e60c-4cba-ac69-b2aadc4b8a09",
   "metadata": {},
   "outputs": [],
   "source": [
    "# apply insider knowledge for market intelligence\n",
    "fixtures[\"knwl_mkt_intel\"] = np.select(\n",
    "    [fixtures[\"rate_mkt_h\"] >= .4, fixtures[\"rate_mkt_a\"] >= .3],\n",
    "    [\"H\", \"A\"],\n",
    "    default=\"D\",\n",
    ")\n",
    "\n",
    "fts_nshift.append(\"knwl_mkt_intel\")"
   ]
  },
  {
   "cell_type": "code",
   "execution_count": null,
   "id": "5ad88ba5-3e77-4d29-9cfa-3d4f4f4e6755",
   "metadata": {},
   "outputs": [],
   "source": [
    "# categorise time frame\n",
    "fixtures[\"timestamp\"] = pd.to_datetime(fixtures[\"time\"], format=\"%H:%M\")\n",
    "\n",
    "fixtures[\"time_frame\"] = np.where(\n",
    "    fixtures[\"timestamp\"].dt.hour < 18,\n",
    "    \"noon\", \"night\",\n",
    ")\n",
    "\n",
    "fts_nshift.append(\"time_frame\")"
   ]
  },
  {
   "cell_type": "code",
   "execution_count": null,
   "id": "216752ff-fd14-47bc-ad5b-ab57287c737b",
   "metadata": {
    "scrolled": true
   },
   "outputs": [],
   "source": [
    "# formulate head to head (stadium dependent) win and lose rate\n",
    "fixtures[\"teams\"] = fixtures[[\"home\", \"away\"]].apply(tuple, axis=1)\n",
    "fixtures[\"n_h2h_game\"] = fixtures.groupby(\"teams\")[\"date\"].cumcount() + 1\n",
    "\n",
    "for res, val in {\"win\": \"H\", \"lose\": \"A\"}.items():\n",
    "    fixtures[f\"n_{res}\"] = fixtures.groupby(\"teams\", as_index=False)[\"res\"] \\\n",
    "        .apply(lambda x: (x==val).cumsum()) \\\n",
    "        .reset_index() \\\n",
    "        .sort_values(by=\"level_1\", ignore_index=True)[\"res\"]\n",
    "    \n",
    "    fixtures[f\"rate_h2h_{res}\"] = fixtures[f\"n_{res}\"] / fixtures[\"n_h2h_game\"]\n",
    "\n",
    "fts_shift.update({\"rate_h2h_win\": .4, \"rate_h2h_lose\": .3})"
   ]
  },
  {
   "cell_type": "code",
   "execution_count": null,
   "id": "bf83662f-028b-4190-98a3-23400bd7c23d",
   "metadata": {},
   "outputs": [],
   "source": [
    "# apply insider knowledge for head to head rate\n",
    "fixtures[\"rate_h2h_diff\"] = fixtures[\"rate_h2h_win\"] - fixtures[\"rate_h2h_lose\"]\n",
    "\n",
    "fixtures[\"knwl_h2h\"] = np.select(\n",
    "    [fixtures[\"rate_h2h_diff\"] > .3, fixtures[\"rate_h2h_diff\"] < -.2],\n",
    "    [\"H\", \"A\"],\n",
    "    default=\"D\",\n",
    ")\n",
    "\n",
    "fts_shift.update({\"knwl_h2h\": \"H\"})"
   ]
  },
  {
   "cell_type": "code",
   "execution_count": null,
   "id": "c06c561d-555a-4c93-80f5-89351f293a4d",
   "metadata": {},
   "outputs": [],
   "source": [
    "col = [\n",
    "    \"season\", \"date\", \"time\", \"time_frame\",\n",
    "    \"home\", \"away\", \"res\",\n",
    "    \"avgch\", \"avgcd\", \"avgca\", \"knwl_mkt_intel\",\n",
    "    \"rate_mkt_h\", \"rate_mkt_d\", \"rate_mkt_a\",\n",
    "    \"teams\", \"rate_h2h_win\", \"rate_h2h_lose\", \"knwl_h2h\",\n",
    "]\n",
    "fixtures = fixtures[col].copy()"
   ]
  },
  {
   "cell_type": "code",
   "execution_count": null,
   "id": "1dfcaed5-8c3b-4cb4-8d3f-755e83cd15d4",
   "metadata": {},
   "outputs": [],
   "source": [
    "fixtures.to_parquet(\"../data/featured/features.parquet\")"
   ]
  },
  {
   "cell_type": "markdown",
   "id": "bb538234-07aa-486c-9b77-b31704c2493f",
   "metadata": {},
   "source": [
    "#### Plays-wise"
   ]
  },
  {
   "cell_type": "code",
   "execution_count": null,
   "id": "0d627943-080e-434d-bc9b-13ce56e2a4fa",
   "metadata": {
    "scrolled": true
   },
   "outputs": [],
   "source": [
    "# formulate seasonal rest days\n",
    "plays[\"dt\"] = pd.to_datetime(plays[\"date\"])\n",
    "plays[\"dt_next\"] = plays.groupby([\"season\", \"team\"])[\"dt\"].shift(-1)\n",
    "\n",
    "plays[\"n_rest_day\"] = plays[\"dt_next\"] - plays[\"dt\"]\n",
    "plays[\"n_rest_day\"] = plays[\"n_rest_day\"].dt.days\n",
    "plays[\"n_rest_day\"] = plays[\"n_rest_day\"].where(plays[\"n_rest_day\"] < 14, 7) \\\n",
    "    .astype(int)\n",
    "\n",
    "fts_nshift.append(\"n_rest_day\")"
   ]
  },
  {
   "cell_type": "code",
   "execution_count": null,
   "id": "5c7b9809-502f-4c1a-b07d-5d77c4c7cd50",
   "metadata": {},
   "outputs": [],
   "source": [
    "# formulate seasonal win and lose rate\n",
    "plays[\"n_game\"] = plays.groupby([\"season\", \"team\"])[\"date\"].cumcount() + 1\n",
    "\n",
    "for res, val in {\"win\": 3, \"lose\": 0}.items():\n",
    "    plays[f\"n_{res}\"] = plays.groupby([\"season\", \"team\"])[\"points\"] \\\n",
    "        .apply(lambda x: (x==val).cumsum()) \\\n",
    "        .reset_index() \\\n",
    "        .sort_values(by=\"level_2\", ignore_index=True)[\"points\"]\n",
    "    \n",
    "    plays[f\"rate_seas_{res}\"] = plays[f\"n_{res}\"] / plays[\"n_game\"]\n",
    "\n",
    "fts_shift.update({\"rate_seas_win\": .4, \"rate_seas_lose\": .3})"
   ]
  },
  {
   "cell_type": "code",
   "execution_count": null,
   "id": "57d7e1eb-a7b4-4cae-be37-0559a2275898",
   "metadata": {},
   "outputs": [],
   "source": [
    "# accumulate seasonal scores\n",
    "plays[\"scores\"] = plays.groupby([\"season\", \"team\"])[\"points\"].cumsum()\n",
    "\n",
    "fts_shift.update({\"scores\": 0})"
   ]
  },
  {
   "cell_type": "code",
   "execution_count": null,
   "id": "681ed92e-6ef5-4040-aaef-62df85273412",
   "metadata": {
    "scrolled": true
   },
   "outputs": [],
   "source": [
    "# formulate seasonal rank\n",
    "# create a rank template for all teams\n",
    "season_date = plays[[\"season\", \"date\"]].drop_duplicates().values\n",
    "teams = plays[[\"team\"]].drop_duplicates()\n",
    "\n",
    "tpls = []\n",
    "for season, date in season_date:\n",
    "    tpl = teams.copy()\n",
    "    tpl[[\"season\", \"date\"]] = season, date\n",
    "    tpls.append(tpl)\n",
    "\n",
    "ranks = pd.concat(tpls, ignore_index=True)\n",
    "ranks = ranks[[\"season\", \"date\", \"team\"]]\n",
    "\n",
    "# accumulate goals and net goals\n",
    "goals = [\"goals\", \"net_goals\"]\n",
    "\n",
    "scores = plays[[\"season\", \"date\", \"team\", \"scores\"]].copy()\n",
    "scores[goals] = plays.groupby([\"season\", \"team\"]) \\\n",
    "    [goals].cumsum()\n",
    "\n",
    "ranks = ranks.merge(scores, how=\"left\")\n",
    "\n",
    "# rank sort by score, goals and net_goals\n",
    "criteria = [\"scores\", \"net_goals\", \"goals\"]\n",
    "\n",
    "ranks[criteria] = ranks.groupby([\"season\", \"team\"])[criteria].ffill() \\\n",
    "    .fillna(float(\"-inf\"))\n",
    "\n",
    "ranks[\"criteria\"] = ranks[criteria].apply(tuple, axis=1)\n",
    "\n",
    "ranks[\"rank\"] = ranks.groupby([\"season\", \"date\"])[\"criteria\"] \\\n",
    "    .rank(method=\"min\", ascending=False) \\\n",
    "    .astype(int)\n",
    "\n",
    "plays = plays.merge(ranks[[\"date\", \"team\", \"rank\"]])\n",
    "\n",
    "fts_shift.update({\"rank\": 0})"
   ]
  },
  {
   "cell_type": "code",
   "execution_count": null,
   "id": "7d5386d5-bda9-4afd-9f42-1887311cd55a",
   "metadata": {
    "scrolled": true
   },
   "outputs": [],
   "source": [
    "# formulate seasonal rating\n",
    "results = fixtures[[\"season\", \"date\"]].copy()\n",
    "\n",
    "results[\"winner\"] = np.select(\n",
    "    [fixtures[\"res\"] == \"H\", fixtures[\"res\"] == \"A\"],\n",
    "    [fixtures[\"home\"], fixtures[\"away\"]],\n",
    "    default=fixtures[[\"home\", \"away\"]].apply(tuple, axis=1),\n",
    ")\n",
    "\n",
    "results[\"loser\"] = np.select(\n",
    "    [fixtures[\"res\"] == \"A\", fixtures[\"res\"] == \"H\"],\n",
    "    [fixtures[\"home\"], fixtures[\"away\"]],\n",
    "    default=None,\n",
    ")\n",
    "\n",
    "dfs = []\n",
    "for season in results[\"season\"].unique():\n",
    "    tracker = Tracker()\n",
    "    tracker.process_data(\n",
    "        results.query(f\"season == {season}\")[[\"date\", \"winner\", \"loser\"]]\n",
    "    )\n",
    "    \n",
    "    elo_season = tracker.get_history_df()\n",
    "    elo_season.rename(\n",
    "        columns={\"player_id\": \"team\", \"rating\": \"rating_seas\"},\n",
    "        inplace=True,\n",
    "    )\n",
    "    \n",
    "    dfs.append(elo_season)\n",
    "\n",
    "elo = pd.concat(dfs, ignore_index=True)\n",
    "\n",
    "plays = plays.merge(elo)\n",
    "\n",
    "fts_shift.update({\"rating_seas\": 1_000})"
   ]
  },
  {
   "cell_type": "code",
   "execution_count": null,
   "id": "3adde603-e4a7-44a8-aefd-9e8589747de5",
   "metadata": {
    "scrolled": true
   },
   "outputs": [],
   "source": [
    "# formulate historical rank\n",
    "results = fixtures[[\"season\", \"date\"]].copy()\n",
    "\n",
    "results[\"winner\"] = np.select(\n",
    "    [fixtures[\"res\"] == \"H\", fixtures[\"res\"] == \"A\"],\n",
    "    [fixtures[\"home\"], fixtures[\"away\"]],\n",
    "    default=fixtures[[\"home\", \"away\"]].apply(tuple, axis=1),\n",
    ")\n",
    "\n",
    "results[\"loser\"] = np.select(\n",
    "    [fixtures[\"res\"] == \"A\", fixtures[\"res\"] == \"H\"],\n",
    "    [fixtures[\"home\"], fixtures[\"away\"]],\n",
    "    default=None,\n",
    ")\n",
    "\n",
    "tracker = Tracker()\n",
    "tracker.process_data(results[[\"date\", \"winner\", \"loser\"]])\n",
    "\n",
    "elo = tracker.get_history_df()\n",
    "elo.rename(\n",
    "    columns={\"player_id\": \"team\", \"rating\": \"rating_hist\"},\n",
    "    inplace=True,\n",
    ")\n",
    "\n",
    "plays = plays.merge(elo)\n",
    "\n",
    "fts_shift.update({\"rating_hist\": 1_000})"
   ]
  },
  {
   "cell_type": "code",
   "execution_count": null,
   "id": "08403fd7-1959-4f12-b957-e56801f512e7",
   "metadata": {},
   "outputs": [],
   "source": [
    "col = [\n",
    "    \"season\", \"date\", \"team\",\n",
    "    \"goals\", \"net_goals\", \"points\",\n",
    "    \"n_game\", \"rank\", \"scores\",\n",
    "    \"rate_seas_win\", \"rate_seas_lose\",\n",
    "    \"rating_seas\", \"rating_hist\",\n",
    "    \"stadium\", \"n_rest_day\",\n",
    "]\n",
    "plays = plays[col].copy()"
   ]
  },
  {
   "cell_type": "code",
   "execution_count": null,
   "id": "4f23fd92-dd6d-4f80-90c8-3d65fda26b2f",
   "metadata": {},
   "outputs": [],
   "source": [
    "plays.to_parquet(\"../data/featured/plays.parquet\")"
   ]
  },
  {
   "cell_type": "markdown",
   "id": "646ebd7a-8c33-4a7b-86e5-0f26ca67fc77",
   "metadata": {},
   "source": [
    "#### Feature Shift"
   ]
  },
  {
   "cell_type": "code",
   "execution_count": null,
   "id": "da0b6e15-9889-4e9f-ad55-daf47c8a3560",
   "metadata": {
    "scrolled": true
   },
   "outputs": [],
   "source": [
    "col = [col for col in fixtures.columns if col in fts_shift.keys()]\n",
    "\n",
    "fixtures[col] = fixtures.groupby(\"teams\")[col].shift()\n",
    "fixtures.fillna(fts_shift, inplace=True)"
   ]
  },
  {
   "cell_type": "code",
   "execution_count": null,
   "id": "e8b669bc-eabb-41b8-9b5a-3e69b28123b8",
   "metadata": {},
   "outputs": [],
   "source": [
    "col = [col for col in plays.columns if col in fts_shift.keys()]\n",
    "\n",
    "plays[col] = plays.groupby([\"season\", \"team\"])[col].shift()\n",
    "plays.fillna(fts_shift, inplace=True)"
   ]
  },
  {
   "cell_type": "markdown",
   "id": "8dd813fd-0c1d-4975-acf7-a05651ef20b8",
   "metadata": {},
   "source": [
    "#### Denormalisation"
   ]
  },
  {
   "cell_type": "code",
   "execution_count": null,
   "id": "83093c86-f72c-479c-9201-18f744ef2818",
   "metadata": {},
   "outputs": [],
   "source": [
    "fts = fts_nshift + list(fts_shift.keys())\n",
    "\n",
    "col = [\n",
    "    \"season\", \"date\", \"res\",\n",
    "    \"home\", \"away\",\n",
    "] + [\n",
    "    col for col in fixtures.columns\n",
    "    if col in fts\n",
    "]\n",
    "games = fixtures[col].copy()\n",
    "\n",
    "col = [\n",
    "    \"date\", \"team\",\n",
    "] + [\n",
    "    col for col in plays.columns\n",
    "    if col in fts\n",
    "]\n",
    "teams = plays[col].copy()"
   ]
  },
  {
   "cell_type": "code",
   "execution_count": null,
   "id": "d256356f-5f64-4f66-b710-9dbba832d27e",
   "metadata": {
    "scrolled": true
   },
   "outputs": [],
   "source": [
    "j1 = games.merge(\n",
    "    teams.rename(columns={\"team\": \"home\"}),\n",
    "    how=\"left\",\n",
    "    on=[\"date\", \"home\"],\n",
    ").merge(\n",
    "    teams.rename(columns={\"team\": \"away\"}),\n",
    "    how=\"left\",\n",
    "    on=[\"date\", \"away\"],\n",
    "    suffixes=(\"_h\", \"_a\"),\n",
    ")"
   ]
  },
  {
   "cell_type": "code",
   "execution_count": null,
   "id": "7cea167e-c4b2-4991-8fe4-ccae04ce4a2b",
   "metadata": {},
   "outputs": [],
   "source": [
    "col_h = [col for col in j1.columns if col.endswith(\"_h\")]\n",
    "col_a = [col for col in j1.columns if col.endswith(\"_a\")]\n",
    "\n",
    "col = [re.sub(\"_h$\", \"_net\", col) for col in col_h]\n",
    "j1[col] = j1[col_h].values - j1[col_a].values\n",
    "\n",
    "col = [\"date\", \"home\", \"away\"] + col_h + col_a\n",
    "j1.drop(columns=col, inplace=True)"
   ]
  },
  {
   "cell_type": "code",
   "execution_count": null,
   "id": "5b388e5c-85cc-4ec6-b76f-01a0d501b1c1",
   "metadata": {},
   "outputs": [],
   "source": [
    "# convert HDA to handicap result\n",
    "# `rank_net > 0` means home team has better season ranking\n",
    "# in general handicap favorites to home team\n",
    "# if the game drew meaning away team won the handicap, vice versa\n",
    "hcap = np.where(j1[\"rank_net\"] > 0, \"A\", \"H\")\n",
    "j1[\"res\"] = j1[\"res\"].where(j1[\"res\"] != \"D\", hcap)"
   ]
  },
  {
   "cell_type": "code",
   "execution_count": null,
   "id": "9accabd2-d87e-4c0b-8f17-aebead03bf36",
   "metadata": {},
   "outputs": [],
   "source": [
    "j1.to_parquet(\"../data/featured/j1_league.parquet\")"
   ]
  }
 ],
 "metadata": {
  "kernelspec": {
   "display_name": "Python 3 (ipykernel)",
   "language": "python",
   "name": "python3"
  },
  "language_info": {
   "codemirror_mode": {
    "name": "ipython",
    "version": 3
   },
   "file_extension": ".py",
   "mimetype": "text/x-python",
   "name": "python",
   "nbconvert_exporter": "python",
   "pygments_lexer": "ipython3",
   "version": "3.10.14"
  }
 },
 "nbformat": 4,
 "nbformat_minor": 5
}
