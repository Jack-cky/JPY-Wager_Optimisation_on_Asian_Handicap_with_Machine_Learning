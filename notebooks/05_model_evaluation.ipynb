{
 "cells": [
  {
   "cell_type": "code",
   "execution_count": null,
   "id": "30156c7d-a812-4b29-b61d-f42eac63a7c2",
   "metadata": {},
   "outputs": [],
   "source": [
    "import h2o\n",
    "import mlflow\n",
    "import mlflow.h2o\n",
    "import numpy as np\n",
    "import pandas as pd\n",
    "from mlflow.tracking import MlflowClient\n",
    "from mlflow.entities import ViewType\n",
    "from scipy.stats import poisson\n",
    "from sklearn.metrics import classification_report"
   ]
  },
  {
   "cell_type": "code",
   "execution_count": null,
   "id": "243c8088-0ae7-4d37-8f67-c3f914e648d6",
   "metadata": {},
   "outputs": [],
   "source": [
    "client = MlflowClient()"
   ]
  },
  {
   "cell_type": "code",
   "execution_count": null,
   "id": "4dcce6cd-4350-4e90-bcb4-fd4cf36724f9",
   "metadata": {},
   "outputs": [],
   "source": [
    "h2o.init()"
   ]
  },
  {
   "cell_type": "code",
   "execution_count": null,
   "id": "36b56376-70c5-4fce-9e39-ea48f4123ef1",
   "metadata": {},
   "outputs": [],
   "source": [
    "model_pth = \"mlruns/{}/{}/artifacts/model/\""
   ]
  },
  {
   "cell_type": "markdown",
   "id": "edbb7210-829a-4563-bd02-78a275628f07",
   "metadata": {},
   "source": [
    "#### Goals Probability"
   ]
  },
  {
   "cell_type": "code",
   "execution_count": null,
   "id": "f2dd9cee-87d7-40f0-b813-1dbea8d1fb9c",
   "metadata": {},
   "outputs": [],
   "source": [
    "experiment_name = \"Probability Matrix\"\n",
    "\n",
    "experiment = mlflow.set_experiment(experiment_name)\n",
    "experiment_id = experiment.experiment_id\n",
    "\n",
    "runs = mlflow.search_runs(\n",
    "    experiment_ids=experiment_id,\n",
    "    run_view_type=ViewType.ALL,\n",
    ")\n",
    "run_id = runs.sort_values(by=\"metrics.aic\").iloc[0][\"run_id\"]"
   ]
  },
  {
   "cell_type": "code",
   "execution_count": null,
   "id": "cdc50f1e-46b4-4d02-919c-068a5540624b",
   "metadata": {},
   "outputs": [],
   "source": [
    "glm = mlflow.statsmodels.load_model(model_pth.format(experiment_id, run_id))"
   ]
  },
  {
   "cell_type": "code",
   "execution_count": null,
   "id": "791e379f-bbea-414c-bf13-144370cda3b8",
   "metadata": {},
   "outputs": [],
   "source": [
    "j1 = pd.read_parquet(\"../data/cleansed/cleansed_data.parquet\")\n",
    "\n",
    "col = [\"home\", \"away\", \"hg\", \"ag\"]\n",
    "opponent = {\"away\": \"home\", \"home\": \"away\"}\n",
    "\n",
    "j1 = j1.query(\"season == 2024\")[col].copy()"
   ]
  },
  {
   "cell_type": "code",
   "execution_count": null,
   "id": "02acaecc-73a6-47e5-be3e-bf2ec94a6a02",
   "metadata": {},
   "outputs": [],
   "source": [
    "def predict_xg(model, home, away, max_goals=6):\n",
    "    xg_h = model.predict(\n",
    "        pd.DataFrame(\n",
    "            data={\"team\": home, \"opponent\": away, \"stadium\": 1}, \n",
    "            index=[0],\n",
    "        )\n",
    "    ).values[0]\n",
    "    \n",
    "    xg_a = model.predict(\n",
    "        pd.DataFrame(\n",
    "            data={\"team\": away, \"opponent\": home, \"stadium\": 0},\n",
    "            index=[0],\n",
    "        )\n",
    "    ).values[0]\n",
    "    \n",
    "    prediction = [\n",
    "        [poisson.pmf(i, lambda_) for i in range(0, max_goals+1)]\n",
    "        for lambda_ in [xg_h, xg_a]\n",
    "    ]\n",
    "    \n",
    "    prob_matrix = np.outer(\n",
    "        np.array(prediction[0]),\n",
    "        np.array(prediction[1]),\n",
    "    )\n",
    "    \n",
    "    return prob_matrix"
   ]
  },
  {
   "cell_type": "code",
   "execution_count": null,
   "id": "8194ae2d-c3db-4e07-87e3-6e4424632f0b",
   "metadata": {},
   "outputs": [],
   "source": [
    "xg = predict_xg(glm, \"20\", \"24\")\n",
    "xg"
   ]
  },
  {
   "cell_type": "markdown",
   "id": "a8c31946-72e4-4bf8-bb9b-561a5b644f45",
   "metadata": {},
   "source": [
    "#### Handicap Results"
   ]
  },
  {
   "cell_type": "code",
   "execution_count": null,
   "id": "e1e08b53-91bb-4292-82a7-ea3a61c7b481",
   "metadata": {},
   "outputs": [],
   "source": [
    "experiment_name = \"Handicap Prediction\"\n",
    "\n",
    "experiment = mlflow.set_experiment(experiment_name)\n",
    "experiment_id = experiment.experiment_id\n",
    "\n",
    "runs = mlflow.search_runs(\n",
    "    experiment_ids=experiment_id,\n",
    "    run_view_type=ViewType.ALL,\n",
    ")\n",
    "run_id = runs.sort_values(by=\"metrics.logloss\").iloc[0][\"run_id\"]"
   ]
  },
  {
   "cell_type": "code",
   "execution_count": null,
   "id": "d52d1a9a-f5d8-4275-82cd-9ea081d5118e",
   "metadata": {},
   "outputs": [],
   "source": [
    "clf = mlflow.h2o.load_model(model_pth.format(experiment_id, run_id))"
   ]
  },
  {
   "cell_type": "code",
   "execution_count": null,
   "id": "cabce462-2aeb-4493-85ec-f9e577333716",
   "metadata": {},
   "outputs": [],
   "source": [
    "experiment_name = \"Bet Decision\"\n",
    "\n",
    "experiment = mlflow.set_experiment(experiment_name)\n",
    "experiment_id = experiment.experiment_id\n",
    "\n",
    "runs = mlflow.search_runs(\n",
    "    experiment_ids=experiment_id,\n",
    "    run_view_type=ViewType.ALL,\n",
    ")\n",
    "run_id = runs.sort_values(by=\"metrics.logloss\").iloc[0][\"run_id\"]"
   ]
  },
  {
   "cell_type": "code",
   "execution_count": null,
   "id": "33f1800f-640d-405e-aad1-7063c2fd9cab",
   "metadata": {},
   "outputs": [],
   "source": [
    "decider = mlflow.h2o.load_model(model_pth.format(experiment_id, run_id))"
   ]
  },
  {
   "cell_type": "code",
   "execution_count": null,
   "id": "984f7986-7f6e-487e-a2f0-e0e7a81d71b3",
   "metadata": {},
   "outputs": [],
   "source": [
    "j1 = pd.read_parquet(\"../data/featured/j1_league.parquet\")\n",
    "\n",
    "test = j1.query(\"season == 2024\").drop(columns=\"season\")"
   ]
  },
  {
   "cell_type": "code",
   "execution_count": null,
   "id": "9fdf3e95-6e01-4ff5-a043-977b76888a52",
   "metadata": {},
   "outputs": [],
   "source": [
    "def recommend_bet(clf, decider, data):\n",
    "    test = pd.DataFrame(data, index=[0])\n",
    "    \n",
    "    test_h2o = h2o.H2OFrame(test)\n",
    "    prediction = clf.predict(test_h2o)\n",
    "    \n",
    "    test_pred = prediction.as_data_frame()\n",
    "    test_pred[\"probability\"] = test_pred[[\"A\", \"H\"]].max(axis=1)\n",
    "    \n",
    "    dscn_h2o = h2o.H2OFrame(test_pred[[\"predict\", \"probability\"]])\n",
    "    dscn_pred = decider.predict(dscn_h2o)\n",
    "    \n",
    "    test_pred[\"decision\"] = dscn_pred.as_data_frame()[\"predict\"]\n",
    "    \n",
    "    pred = test_pred.iloc[0].to_dict()\n",
    "    \n",
    "    if pred[\"decision\"]:\n",
    "        y_hat = pred[\"predict\"]\n",
    "        res = [\"Away Team\", \"Home Team\"][y_hat == \"H\"]\n",
    "    else:\n",
    "        res = \"No Bet\"\n",
    "    \n",
    "    return res"
   ]
  },
  {
   "cell_type": "code",
   "execution_count": null,
   "id": "4bad0df4-b71d-4f54-88b1-2b645f12859e",
   "metadata": {},
   "outputs": [],
   "source": [
    "recommend_bet(clf, decider, test.iloc[-1].to_dict())"
   ]
  },
  {
   "cell_type": "code",
   "execution_count": null,
   "id": "2303dce3-be7b-495f-ad50-c555ffca8c35",
   "metadata": {},
   "outputs": [],
   "source": [
    "test_h2o = h2o.H2OFrame(test)\n",
    "\n",
    "prediction = clf.predict(test_h2o)\n",
    "\n",
    "test_pred = prediction.as_data_frame()\n",
    "test_pred[\"probability\"] = test_pred[[\"A\", \"H\"]].max(axis=1)\n",
    "test_pred[\"actual\"] = test.reset_index(drop=True)[\"res\"]"
   ]
  },
  {
   "cell_type": "code",
   "execution_count": null,
   "id": "640d36c7-13c4-478e-9ff3-fda66a803812",
   "metadata": {},
   "outputs": [],
   "source": [
    "dscn_h2o = h2o.H2OFrame(test_pred[[\"predict\", \"probability\"]])\n",
    "dscn_pred = decider.predict(dscn_h2o)"
   ]
  },
  {
   "cell_type": "code",
   "execution_count": null,
   "id": "bdc3713e-db38-48af-a4fa-5c90c632f0c9",
   "metadata": {},
   "outputs": [],
   "source": [
    "test_pred[\"decision\"] = dscn_pred.as_data_frame()[\"predict\"]"
   ]
  },
  {
   "cell_type": "code",
   "execution_count": null,
   "id": "2a8d53b7-b2e1-45f5-ac53-5ddf6af913dd",
   "metadata": {},
   "outputs": [],
   "source": [
    "pred = test_pred.query(\"decision == 1\")\n",
    "y_hat = pred[\"predict\"]\n",
    "y_true = pred[\"actual\"]"
   ]
  },
  {
   "cell_type": "code",
   "execution_count": null,
   "id": "272884b5-7a17-4518-9930-d179255187da",
   "metadata": {},
   "outputs": [],
   "source": [
    "print(classification_report(y_true, y_hat))"
   ]
  }
 ],
 "metadata": {
  "kernelspec": {
   "display_name": "Python 3 (ipykernel)",
   "language": "python",
   "name": "python3"
  },
  "language_info": {
   "codemirror_mode": {
    "name": "ipython",
    "version": 3
   },
   "file_extension": ".py",
   "mimetype": "text/x-python",
   "name": "python",
   "nbconvert_exporter": "python",
   "pygments_lexer": "ipython3",
   "version": "3.10.14"
  }
 },
 "nbformat": 4,
 "nbformat_minor": 5
}
