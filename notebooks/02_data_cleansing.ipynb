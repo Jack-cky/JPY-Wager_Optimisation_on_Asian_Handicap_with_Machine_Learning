{
 "cells": [
  {
   "cell_type": "code",
   "execution_count": null,
   "id": "6a7ecaeb-9747-43e2-b65d-422de8e5bf0e",
   "metadata": {},
   "outputs": [],
   "source": [
    "import json\n",
    "\n",
    "import pandas as pd\n",
    "from pytz import timezone"
   ]
  },
  {
   "cell_type": "code",
   "execution_count": null,
   "id": "0d805ff6-3395-4dc6-adbc-60641adf66c1",
   "metadata": {
    "scrolled": true
   },
   "outputs": [],
   "source": [
    "df = pd.read_parquet(\"../data/raw/raw_data.parquet\")\n",
    "df.columns = [col.lower() for col in df.columns]"
   ]
  },
  {
   "cell_type": "code",
   "execution_count": null,
   "id": "e189b467-4bf7-4808-bea7-0b41410be39a",
   "metadata": {},
   "outputs": [],
   "source": [
    "# convert date to JST\n",
    "uk_tz = timezone(\"Europe/London\")\n",
    "jp_tz = timezone(\"Asia/Tokyo\")\n",
    "\n",
    "df[\"date_time\"] = df[\"date\"] + \" \" + df[\"time\"]\n",
    "\n",
    "df[\"jst\"] = pd.to_datetime(df[\"date_time\"], format=\"%d/%m/%Y %H:%M\") \\\n",
    "    .map(uk_tz.localize) \\\n",
    "    .map(lambda x: x.astimezone(jp_tz))\n",
    "\n",
    "df[\"date\"] = df[\"jst\"].dt.strftime(\"%Y-%m-%d\")\n",
    "\n",
    "df[\"time\"] = df[\"jst\"].dt.strftime(\"%H:%M\")\n",
    "\n",
    "# encode team name\n",
    "teams = pd.unique(df[[\"home\", \"away\"]].values.ravel(\"K\"))\n",
    "teams.sort()\n",
    "encode_team = {team:str(idx) for idx, team in enumerate(teams)}\n",
    "encode_team.update({\"None\": \"-1\"})\n",
    "decode_team = {idx:team for team, idx in encode_team.items()}\n",
    "\n",
    "df[\"home\"] = df[\"home\"].map(encode_team)\n",
    "\n",
    "df[\"away\"] = df[\"away\"].map(encode_team)\n",
    "\n",
    "# absolute difference in goals\n",
    "df[\"goals_diff\"] = df[\"hg\"] - df[\"ag\"]\n",
    "\n",
    "df[\"goals_abs_diff\"] = df[\"goals_diff\"].abs()"
   ]
  },
  {
   "cell_type": "code",
   "execution_count": null,
   "id": "13e3b140-a82f-4b0b-8cf9-6e71d61e6342",
   "metadata": {},
   "outputs": [],
   "source": [
    "col = [\n",
    "    \"season\", \"date\", \"time\",\n",
    "    \"home\", \"away\", \n",
    "    \"hg\", \"ag\", \"res\",\n",
    "    \"avgch\", \"avgcd\", \"avgca\",\n",
    "    \"goals_diff\", \"goals_abs_diff\",\n",
    "]\n",
    "df = df[col].copy()"
   ]
  },
  {
   "cell_type": "code",
   "execution_count": null,
   "id": "dec82c67-6b69-4f02-b4e7-41b25a627af0",
   "metadata": {},
   "outputs": [],
   "source": [
    "with open(\"../data/mapping/encoder.json\", \"w\") as file:\n",
    "    json.dump(encode_team, file)\n",
    "\n",
    "with open(\"../data/mapping/decoder.json\", \"w\") as file:\n",
    "    json.dump(decode_team, file)\n",
    "\n",
    "df.to_parquet(\"../data/cleansed/cleansed_data.parquet\")"
   ]
  },
  {
   "cell_type": "markdown",
   "id": "d70d5564-54d1-421a-b1bc-d8a4a6a6ac28",
   "metadata": {},
   "source": [
    "#### Fixture Information"
   ]
  },
  {
   "cell_type": "code",
   "execution_count": null,
   "id": "64b5ddb1-8006-43eb-8291-0996381c5f69",
   "metadata": {},
   "outputs": [],
   "source": [
    "col = [\n",
    "    \"season\", \"date\", \"time\",\n",
    "    \"home\", \"away\", \"res\",\n",
    "    \"avgch\", \"avgcd\", \"avgca\",\n",
    "]\n",
    "fixtures = df[col].copy()"
   ]
  },
  {
   "cell_type": "code",
   "execution_count": null,
   "id": "04da092c-2739-4980-be73-58b98282ee51",
   "metadata": {},
   "outputs": [],
   "source": [
    "fixtures.to_parquet(\"../data/cleansed/fixtures.parquet\")"
   ]
  },
  {
   "cell_type": "markdown",
   "id": "3e535ea6-7583-4385-a3e7-ca7155728d8a",
   "metadata": {},
   "source": [
    "#### Individual Team Results"
   ]
  },
  {
   "cell_type": "code",
   "execution_count": null,
   "id": "05f6e9e8-3386-4d7f-b8a5-a290e6ff97a2",
   "metadata": {},
   "outputs": [],
   "source": [
    "dfs = []\n",
    "for stadium, team in enumerate([\"away\", \"home\"]):\n",
    "    play = df.rename(\n",
    "        columns={team: \"team\", f\"{team[0]}g\": \"goals\"}\n",
    "    ).copy()\n",
    "    \n",
    "    multp = (play[\"res\"].str.lower() == team[0]) \\\n",
    "        .map({True: 1, False: -1})\n",
    "    play[\"net_goals\"] = play[\"goals_abs_diff\"] * multp\n",
    "    \n",
    "    play[\"points\"] = play[\"res\"].str.lower() \\\n",
    "        .map({team[0]: 3, \"d\": 1}) \\\n",
    "        .fillna(0) \\\n",
    "        .astype(int)\n",
    "    \n",
    "    play[\"stadium\"] = stadium\n",
    "    \n",
    "    dfs.append(play)\n",
    "\n",
    "plays = pd.concat(dfs, ignore_index=True)"
   ]
  },
  {
   "cell_type": "code",
   "execution_count": null,
   "id": "a7422269-fdef-4ce7-b8cd-337a0c2b3c2f",
   "metadata": {},
   "outputs": [],
   "source": [
    "col = [\n",
    "    \"season\", \"date\", \"team\",\n",
    "    \"goals\", \"net_goals\", \"points\",\n",
    "    \"stadium\",\n",
    "]\n",
    "plays = plays[col].copy()\n",
    "\n",
    "plays.sort_values(by=\"date\", ignore_index=True, inplace=True)"
   ]
  },
  {
   "cell_type": "code",
   "execution_count": null,
   "id": "a9859dcc-83df-4085-a6b3-3623bda1bd7e",
   "metadata": {},
   "outputs": [],
   "source": [
    "plays.to_parquet(\"../data/cleansed/plays.parquet\")"
   ]
  }
 ],
 "metadata": {
  "kernelspec": {
   "display_name": "Python 3 (ipykernel)",
   "language": "python",
   "name": "python3"
  },
  "language_info": {
   "codemirror_mode": {
    "name": "ipython",
    "version": 3
   },
   "file_extension": ".py",
   "mimetype": "text/x-python",
   "name": "python",
   "nbconvert_exporter": "python",
   "pygments_lexer": "ipython3",
   "version": "3.10.14"
  }
 },
 "nbformat": 4,
 "nbformat_minor": 5
}
